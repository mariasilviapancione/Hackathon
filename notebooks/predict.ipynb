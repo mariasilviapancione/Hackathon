{
 "cells": [
  {
   "cell_type": "markdown",
   "id": "0235238f",
   "metadata": {},
   "source": [
    "# Local prediction"
   ]
  },
  {
   "cell_type": "code",
   "execution_count": 1,
   "id": "cec05a32",
   "metadata": {},
   "outputs": [],
   "source": [
    "import pickle\n",
    "import pandas as pd"
   ]
  },
  {
   "cell_type": "markdown",
   "id": "b2eafc12",
   "metadata": {},
   "source": [
    "## Load model"
   ]
  },
  {
   "cell_type": "code",
   "execution_count": 2,
   "id": "9ae72b77",
   "metadata": {},
   "outputs": [],
   "source": [
    "model = pickle.load(open('model.pkl', 'rb'))\n",
    "label_encoders = pickle.load(open('label_encoders.pkl', 'rb'))"
   ]
  },
  {
   "cell_type": "markdown",
   "id": "6361a4b4",
   "metadata": {},
   "source": [
    "## Data"
   ]
  },
  {
   "cell_type": "code",
   "execution_count": 3,
   "id": "7e85efd0",
   "metadata": {},
   "outputs": [],
   "source": [
    "df = pd.read_csv(\"../data/mushrooms.csv\")"
   ]
  },
  {
   "cell_type": "code",
   "execution_count": 4,
   "id": "f1640c56",
   "metadata": {},
   "outputs": [],
   "source": [
    "df_encoded = df.copy()\n",
    "for col in df_encoded.columns:\n",
    "    le = label_encoders[col]\n",
    "    df_encoded[col] = le.transform(df_encoded[col])"
   ]
  },
  {
   "cell_type": "code",
   "execution_count": 5,
   "id": "50284d3c",
   "metadata": {},
   "outputs": [],
   "source": [
    "n = 0\n",
    "X = df_encoded.drop(\"class\", axis=1)\n",
    "y_encoded = df_encoded[\"class\"]"
   ]
  },
  {
   "cell_type": "markdown",
   "id": "dc5613ab",
   "metadata": {},
   "source": [
    "## Predict"
   ]
  },
  {
   "cell_type": "code",
   "execution_count": 6,
   "id": "896ba504",
   "metadata": {},
   "outputs": [
    {
     "name": "stdout",
     "output_type": "stream",
     "text": [
      "Predicted: p\n",
      "Actual: p\n"
     ]
    }
   ],
   "source": [
    "pred_encoded = model.predict(X[n:n+1])[0]\n",
    "pred_label = label_encoders[\"class\"].inverse_transform([pred_encoded])[0]\n",
    "true_label = df.iloc[n][\"class\"]\n",
    "\n",
    "print(\"Predicted:\", pred_label)\n",
    "print(\"Actual:\", true_label)"
   ]
  },
  {
   "cell_type": "code",
   "execution_count": 7,
   "id": "1e4803c3",
   "metadata": {},
   "outputs": [
    {
     "name": "stdout",
     "output_type": "stream",
     "text": [
      "[0] Predicted: p – Actual: p\n",
      "[1] Predicted: e – Actual: e\n",
      "[2] Predicted: e – Actual: e\n",
      "[3] Predicted: p – Actual: p\n",
      "[4] Predicted: e – Actual: e\n"
     ]
    }
   ],
   "source": [
    "for i in range(5):\n",
    "    pred = model.predict(X[i:i+1])[0]\n",
    "    pred_label = label_encoders[\"class\"].inverse_transform([pred])[0]\n",
    "    true_label = df.iloc[i][\"class\"]\n",
    "    print(f\"[{i}] Predicted: {pred_label} – Actual: {true_label}\")"
   ]
  }
 ],
 "metadata": {
  "kernelspec": {
   "display_name": ".venv",
   "language": "python",
   "name": "python3"
  },
  "language_info": {
   "codemirror_mode": {
    "name": "ipython",
    "version": 3
   },
   "file_extension": ".py",
   "mimetype": "text/x-python",
   "name": "python",
   "nbconvert_exporter": "python",
   "pygments_lexer": "ipython3",
   "version": "3.10.4"
  }
 },
 "nbformat": 4,
 "nbformat_minor": 5
}
